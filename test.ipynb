{
 "cells": [
  {
   "cell_type": "code",
   "execution_count": 1,
   "metadata": {},
   "outputs": [],
   "source": [
    "import pandas as pd"
   ]
  },
  {
   "cell_type": "code",
   "execution_count": 2,
   "metadata": {},
   "outputs": [],
   "source": [
    "data = pd.read_csv(\"data/prepared/PAMAP/Experiment1/train_data.csv\")"
   ]
  },
  {
   "cell_type": "code",
   "execution_count": 7,
   "metadata": {},
   "outputs": [
    {
     "data": {
      "text/plain": [
       "'(array([[0.58826932, 0.58847187, 0.58775682, ..., 0.58909695, 0.58691177,\\n        0.58778209],\\n       [0.42704771, 0.42733505, 0.42674728, ..., 0.42615716, 0.42602998,\\n        0.42616775],\\n       [0.34002216, 0.33935603, 0.33823582, ..., 0.33848099, 0.33978485,\\n        0.33912931],\\n       ...,\\n       [0.58036193, 0.58038348, 0.58018189, ..., 0.57956623, 0.58011331,\\n        0.58014225],\\n       [0.56944374, 0.5711587 , 0.57050075, ..., 0.57215323, 0.57179684,\\n        0.5704636 ],\\n       [0.41651244, 0.41644698, 0.41632784, ..., 0.41726223, 0.41748346,\\n        0.41752527]]), 0)'"
      ]
     },
     "execution_count": 7,
     "metadata": {},
     "output_type": "execute_result"
    }
   ],
   "source": [
    "data['train'][0]"
   ]
  },
  {
   "cell_type": "code",
   "execution_count": 13,
   "metadata": {},
   "outputs": [
    {
     "name": "stdout",
     "output_type": "stream",
     "text": [
      "    test1:\n",
      "    cmd: python3 src/test.py data/prepared/PAMAP/Experiment1/ model/PAMAP/Experiment1/ metrics/PAMAP/Experiment1/\n",
      "    deps:\n",
      "    - data/prepared/PAMAP/Experiment1/test_data.npz\n",
      "    - src/test.py\n",
      "    - model/PAMAP/Experiment1/encoder.pt\n",
      "    - model/PAMAP/Experiment1/classifier.pt\n",
      "    outs:\n",
      "      - metrics/PAMAP/Experiment1/classification_metrics/results.csv\n",
      "      - metrics/PAMAP/Experiment1/confusion_matrix/results.txt\n",
      "      - metrics/PAMAP/Experiment1/prediction_target/results.txt\n",
      "    test2:\n",
      "    cmd: python3 src/test.py data/prepared/PAMAP/Experiment2/ model/PAMAP/Experiment2/ metrics/PAMAP/Experiment2/\n",
      "    deps:\n",
      "    - data/prepared/PAMAP/Experiment2/test_data.npz\n",
      "    - src/test.py\n",
      "    - model/PAMAP/Experiment2/encoder.pt\n",
      "    - model/PAMAP/Experiment2/classifier.pt\n",
      "    outs:\n",
      "      - metrics/PAMAP/Experiment2/classification_metrics/results.csv\n",
      "      - metrics/PAMAP/Experiment2/confusion_matrix/results.txt\n",
      "      - metrics/PAMAP/Experiment2/prediction_target/results.txt\n",
      "    test3:\n",
      "    cmd: python3 src/test.py data/prepared/PAMAP/Experiment3/ model/PAMAP/Experiment3/ metrics/PAMAP/Experiment3/\n",
      "    deps:\n",
      "    - data/prepared/PAMAP/Experiment3/test_data.npz\n",
      "    - src/test.py\n",
      "    - model/PAMAP/Experiment3/encoder.pt\n",
      "    - model/PAMAP/Experiment3/classifier.pt\n",
      "    outs:\n",
      "      - metrics/PAMAP/Experiment3/classification_metrics/results.csv\n",
      "      - metrics/PAMAP/Experiment3/confusion_matrix/results.txt\n",
      "      - metrics/PAMAP/Experiment3/prediction_target/results.txt\n",
      "    test4:\n",
      "    cmd: python3 src/test.py data/prepared/PAMAP/Experiment4/ model/PAMAP/Experiment4/ metrics/PAMAP/Experiment4/\n",
      "    deps:\n",
      "    - data/prepared/PAMAP/Experiment4/test_data.npz\n",
      "    - src/test.py\n",
      "    - model/PAMAP/Experiment4/encoder.pt\n",
      "    - model/PAMAP/Experiment4/classifier.pt\n",
      "    outs:\n",
      "      - metrics/PAMAP/Experiment4/classification_metrics/results.csv\n",
      "      - metrics/PAMAP/Experiment4/confusion_matrix/results.txt\n",
      "      - metrics/PAMAP/Experiment4/prediction_target/results.txt\n",
      "    test5:\n",
      "    cmd: python3 src/test.py data/prepared/PAMAP/Experiment5/ model/PAMAP/Experiment5/ metrics/PAMAP/Experiment5/\n",
      "    deps:\n",
      "    - data/prepared/PAMAP/Experiment5/test_data.npz\n",
      "    - src/test.py\n",
      "    - model/PAMAP/Experiment5/encoder.pt\n",
      "    - model/PAMAP/Experiment5/classifier.pt\n",
      "    outs:\n",
      "      - metrics/PAMAP/Experiment5/classification_metrics/results.csv\n",
      "      - metrics/PAMAP/Experiment5/confusion_matrix/results.txt\n",
      "      - metrics/PAMAP/Experiment5/prediction_target/results.txt\n",
      "    test6:\n",
      "    cmd: python3 src/test.py data/prepared/PAMAP/Experiment6/ model/PAMAP/Experiment6/ metrics/PAMAP/Experiment6/\n",
      "    deps:\n",
      "    - data/prepared/PAMAP/Experiment6/test_data.npz\n",
      "    - src/test.py\n",
      "    - model/PAMAP/Experiment6/encoder.pt\n",
      "    - model/PAMAP/Experiment6/classifier.pt\n",
      "    outs:\n",
      "      - metrics/PAMAP/Experiment6/classification_metrics/results.csv\n",
      "      - metrics/PAMAP/Experiment6/confusion_matrix/results.txt\n",
      "      - metrics/PAMAP/Experiment6/prediction_target/results.txt\n",
      "    test7:\n",
      "    cmd: python3 src/test.py data/prepared/PAMAP/Experiment7/ model/PAMAP/Experiment7/ metrics/PAMAP/Experiment7/\n",
      "    deps:\n",
      "    - data/prepared/PAMAP/Experiment7/test_data.npz\n",
      "    - src/test.py\n",
      "    - model/PAMAP/Experiment7/encoder.pt\n",
      "    - model/PAMAP/Experiment7/classifier.pt\n",
      "    outs:\n",
      "      - metrics/PAMAP/Experiment7/classification_metrics/results.csv\n",
      "      - metrics/PAMAP/Experiment7/confusion_matrix/results.txt\n",
      "      - metrics/PAMAP/Experiment7/prediction_target/results.txt\n",
      "    test8:\n",
      "    cmd: python3 src/test.py data/prepared/PAMAP/Experiment8/ model/PAMAP/Experiment8/ metrics/PAMAP/Experiment8/\n",
      "    deps:\n",
      "    - data/prepared/PAMAP/Experiment8/test_data.npz\n",
      "    - src/test.py\n",
      "    - model/PAMAP/Experiment8/encoder.pt\n",
      "    - model/PAMAP/Experiment8/classifier.pt\n",
      "    outs:\n",
      "      - metrics/PAMAP/Experiment8/classification_metrics/results.csv\n",
      "      - metrics/PAMAP/Experiment8/confusion_matrix/results.txt\n",
      "      - metrics/PAMAP/Experiment8/prediction_target/results.txt\n"
     ]
    }
   ],
   "source": [
    "\n",
    "\n",
    "\n",
    "for a in range(1,9):\n",
    "    print( f'''    test{a}:\n",
    "    cmd: python3 src/test.py data/prepared/PAMAP/Experiment{a}/ model/PAMAP/Experiment{a}/ metrics/PAMAP/Experiment{a}/\n",
    "    deps:\n",
    "    - data/prepared/PAMAP/Experiment{a}/test_data.npz\n",
    "    - src/test.py\n",
    "    - model/PAMAP/Experiment{a}/encoder.pt\n",
    "    - model/PAMAP/Experiment{a}/classifier.pt\n",
    "    outs:\n",
    "      - metrics/PAMAP/Experiment{a}/classification_metrics/results.csv\n",
    "      - metrics/PAMAP/Experiment{a}/confusion_matrix/results.txt\n",
    "      - metrics/PAMAP/Experiment{a}/prediction_target/results.txt''')"
   ]
  },
  {
   "cell_type": "code",
   "execution_count": null,
   "metadata": {},
   "outputs": [],
   "source": []
  }
 ],
 "metadata": {
  "kernelspec": {
   "display_name": "Python 3",
   "language": "python",
   "name": "python3"
  },
  "language_info": {
   "codemirror_mode": {
    "name": "ipython",
    "version": 3
   },
   "file_extension": ".py",
   "mimetype": "text/x-python",
   "name": "python",
   "nbconvert_exporter": "python",
   "pygments_lexer": "ipython3",
   "version": "3.10.12"
  },
  "orig_nbformat": 4
 },
 "nbformat": 4,
 "nbformat_minor": 2
}
